{
 "cells": [
  {
   "cell_type": "code",
   "execution_count": 3,
   "id": "9e3b6a3d",
   "metadata": {},
   "outputs": [],
   "source": [
    "import numpy as np \n",
    "import os , shutil\n",
    "import pandas as pd \n",
    "import matplotlib.pyplot as plt \n",
    "from PIL import Image\n",
    "import cv2 \n",
    "from skimage import io , color"
   ]
  },
  {
   "cell_type": "code",
   "execution_count": 22,
   "id": "f2c3b878",
   "metadata": {},
   "outputs": [],
   "source": [
    "class recon:\n",
    "    k=0\n",
    "    def __init__(self,img_address):\n",
    "        self.img_address = img_address\n",
    "        self.counter = recon.k + 1 # Static Variable Counter\n",
    "        recon.k = self.counter\n",
    "    def read_resize_grayscale(self):\n",
    "        img = cv2.imread(self.img_address)\n",
    "        img = cv2.resize(img,(128,128))\n",
    "        img = color.rgb2gray(img)\n",
    "        arr = np.array(img)\n",
    "        im = Image.fromarray(np.uint8(arr*255))\n",
    "        adress = os.path.join(r\"C:\\Users\\91898\\Desktop\\Finger Counting\\Finger_Classes\\5\",'five'+str(self.counter)+'.png')\n",
    "        print(adress)\n",
    "        im.save(adress)\n",
    "        \n",
    "        \n",
    "        "
   ]
  },
  {
   "cell_type": "code",
   "execution_count": 23,
   "id": "c9cf46ce",
   "metadata": {},
   "outputs": [
    {
     "name": "stdout",
     "output_type": "stream",
     "text": [
      "C:\\Users\\91898\\Desktop\\Finger Counting\\Finger_Classes\\5\\five1.png\n",
      "C:\\Users\\91898\\Desktop\\Finger Counting\\Finger_Classes\\5\\five2.png\n",
      "C:\\Users\\91898\\Desktop\\Finger Counting\\Finger_Classes\\5\\five3.png\n",
      "C:\\Users\\91898\\Desktop\\Finger Counting\\Finger_Classes\\5\\five4.png\n",
      "C:\\Users\\91898\\Desktop\\Finger Counting\\Finger_Classes\\5\\five5.png\n",
      "C:\\Users\\91898\\Desktop\\Finger Counting\\Finger_Classes\\5\\five6.png\n",
      "C:\\Users\\91898\\Desktop\\Finger Counting\\Finger_Classes\\5\\five7.png\n",
      "C:\\Users\\91898\\Desktop\\Finger Counting\\Finger_Classes\\5\\five8.png\n",
      "C:\\Users\\91898\\Desktop\\Finger Counting\\Finger_Classes\\5\\five9.png\n",
      "C:\\Users\\91898\\Desktop\\Finger Counting\\Finger_Classes\\5\\five10.png\n",
      "C:\\Users\\91898\\Desktop\\Finger Counting\\Finger_Classes\\5\\five11.png\n"
     ]
    }
   ],
   "source": [
    "org_dir = r\"C:/Users/91898/Downloads/vipul favour/Hand Images/5\"\n",
    "for file in os.listdir(org_dir):\n",
    "    instance_2 = recon(os.path.join(org_dir,file))\n",
    "    instance_2.read_resize_grayscale()"
   ]
  },
  {
   "cell_type": "code",
   "execution_count": 128,
   "id": "dcd44415",
   "metadata": {},
   "outputs": [
    {
     "ename": "error",
     "evalue": "OpenCV(4.6.0) :-1: error: (-5:Bad argument) in function 'imshow'\n> Overload resolution failed:\n>  - imshow() missing required argument 'mat' (pos 2)\n>  - imshow() missing required argument 'mat' (pos 2)\n>  - imshow() missing required argument 'mat' (pos 2)\n",
     "output_type": "error",
     "traceback": [
      "\u001b[1;31m---------------------------------------------------------------------------\u001b[0m",
      "\u001b[1;31merror\u001b[0m                                     Traceback (most recent call last)",
      "\u001b[1;32m<ipython-input-128-c6ae3d80f435>\u001b[0m in \u001b[0;36m<module>\u001b[1;34m\u001b[0m\n\u001b[0;32m      1\u001b[0m \u001b[0mimg_12\u001b[0m \u001b[1;33m=\u001b[0m \u001b[0mcv2\u001b[0m\u001b[1;33m.\u001b[0m\u001b[0mimread\u001b[0m\u001b[1;33m(\u001b[0m\u001b[1;34mr\"C:\\Users\\91898\\Desktop\\Finger Counting\\Another kaggle dataset\\1L\\0a9efd60-c939-4ded-b4d3-3684396037ca_1L.png\"\u001b[0m\u001b[1;33m)\u001b[0m\u001b[1;33m\u001b[0m\u001b[1;33m\u001b[0m\u001b[0m\n\u001b[1;32m----> 2\u001b[1;33m \u001b[0mcv2\u001b[0m\u001b[1;33m.\u001b[0m\u001b[0mimshow\u001b[0m\u001b[1;33m(\u001b[0m\u001b[0mimg_12\u001b[0m\u001b[1;33m)\u001b[0m\u001b[1;33m\u001b[0m\u001b[1;33m\u001b[0m\u001b[0m\n\u001b[0m",
      "\u001b[1;31merror\u001b[0m: OpenCV(4.6.0) :-1: error: (-5:Bad argument) in function 'imshow'\n> Overload resolution failed:\n>  - imshow() missing required argument 'mat' (pos 2)\n>  - imshow() missing required argument 'mat' (pos 2)\n>  - imshow() missing required argument 'mat' (pos 2)\n"
     ]
    }
   ],
   "source": [
    "img_12 = cv2.imread(r\"C:\\Users\\91898\\Desktop\\Finger Counting\\Another kaggle dataset\\1L\\0a9efd60-c939-4ded-b4d3-3684396037ca_1L.png\")\n",
    "cv2.imshow(img_12)"
   ]
  },
  {
   "cell_type": "code",
   "execution_count": 130,
   "id": "0d5350b7",
   "metadata": {},
   "outputs": [
    {
     "data": {
      "text/plain": [
       "(128, 128, 3)"
      ]
     },
     "execution_count": 130,
     "metadata": {},
     "output_type": "execute_result"
    }
   ],
   "source": [
    "img_12.shape"
   ]
  },
  {
   "cell_type": "code",
   "execution_count": 17,
   "id": "e1524dd0",
   "metadata": {},
   "outputs": [
    {
     "ename": "FileExistsError",
     "evalue": "[WinError 183] Cannot create a file when that file already exists: 'C:\\\\Users\\\\91898\\\\Desktop\\\\Finger Counting\\\\Vipul_Dataset\\\\0'",
     "output_type": "error",
     "traceback": [
      "\u001b[1;31m---------------------------------------------------------------------------\u001b[0m",
      "\u001b[1;31mFileExistsError\u001b[0m                           Traceback (most recent call last)",
      "\u001b[1;32m<ipython-input-17-3efdb83ccfff>\u001b[0m in \u001b[0;36m<module>\u001b[1;34m\u001b[0m\n\u001b[0;32m      1\u001b[0m \u001b[1;32mfor\u001b[0m \u001b[0mk\u001b[0m \u001b[1;32min\u001b[0m \u001b[0mrange\u001b[0m\u001b[1;33m(\u001b[0m\u001b[1;36m6\u001b[0m\u001b[1;33m)\u001b[0m\u001b[1;33m:\u001b[0m\u001b[1;33m\u001b[0m\u001b[1;33m\u001b[0m\u001b[0m\n\u001b[0;32m      2\u001b[0m     \u001b[0mad\u001b[0m \u001b[1;33m=\u001b[0m \u001b[0mos\u001b[0m\u001b[1;33m.\u001b[0m\u001b[0mpath\u001b[0m\u001b[1;33m.\u001b[0m\u001b[0mjoin\u001b[0m\u001b[1;33m(\u001b[0m\u001b[1;33m(\u001b[0m\u001b[1;34mr\"C:\\Users\\91898\\Desktop\\Finger Counting\\Vipul_Dataset\"\u001b[0m\u001b[1;33m)\u001b[0m \u001b[1;33m,\u001b[0m \u001b[0mstr\u001b[0m\u001b[1;33m(\u001b[0m\u001b[0mk\u001b[0m\u001b[1;33m)\u001b[0m\u001b[1;33m)\u001b[0m\u001b[1;33m\u001b[0m\u001b[1;33m\u001b[0m\u001b[0m\n\u001b[1;32m----> 3\u001b[1;33m     \u001b[0mos\u001b[0m\u001b[1;33m.\u001b[0m\u001b[0mmkdir\u001b[0m\u001b[1;33m(\u001b[0m\u001b[0mad\u001b[0m\u001b[1;33m)\u001b[0m\u001b[1;33m\u001b[0m\u001b[1;33m\u001b[0m\u001b[0m\n\u001b[0m",
      "\u001b[1;31mFileExistsError\u001b[0m: [WinError 183] Cannot create a file when that file already exists: 'C:\\\\Users\\\\91898\\\\Desktop\\\\Finger Counting\\\\Vipul_Dataset\\\\0'"
     ]
    }
   ],
   "source": [
    "for k in range(6):\n",
    "    ad = os.path.join((r\"C:\\Users\\91898\\Desktop\\Finger Counting\\Vipul_Dataset\") , str(k))\n",
    "    os.mkdir(ad)"
   ]
  },
  {
   "cell_type": "code",
   "execution_count": 23,
   "id": "00b0dd90",
   "metadata": {
    "scrolled": true
   },
   "outputs": [
    {
     "name": "stdout",
     "output_type": "stream",
     "text": [
      "C:\\Users\\91898\\Desktop\\Finger Counting\\Vipul_Dataset\\5\\five1.png\n",
      "C:\\Users\\91898\\Desktop\\Finger Counting\\Vipul_Dataset\\5\\five2.png\n",
      "C:\\Users\\91898\\Desktop\\Finger Counting\\Vipul_Dataset\\5\\five3.png\n",
      "C:\\Users\\91898\\Desktop\\Finger Counting\\Vipul_Dataset\\5\\five4.png\n",
      "C:\\Users\\91898\\Desktop\\Finger Counting\\Vipul_Dataset\\5\\five5.png\n",
      "C:\\Users\\91898\\Desktop\\Finger Counting\\Vipul_Dataset\\5\\five6.png\n"
     ]
    }
   ],
   "source": [
    "\n",
    "org_dir = os.path.join(r\"C:/Users/91898/Downloads/vipul favour/Hand Images/5\")\n",
    "for file in os.listdir(org_dir):\n",
    "    instance_2 = recon(os.path.join(org_dir,file))\n",
    "    instance_2.read_resize_grayscale()"
   ]
  },
  {
   "cell_type": "code",
   "execution_count": null,
   "id": "e6eb1846",
   "metadata": {},
   "outputs": [],
   "source": []
  }
 ],
 "metadata": {
  "kernelspec": {
   "display_name": "Python 3",
   "language": "python",
   "name": "python3"
  },
  "language_info": {
   "codemirror_mode": {
    "name": "ipython",
    "version": 3
   },
   "file_extension": ".py",
   "mimetype": "text/x-python",
   "name": "python",
   "nbconvert_exporter": "python",
   "pygments_lexer": "ipython3",
   "version": "3.8.8"
  }
 },
 "nbformat": 4,
 "nbformat_minor": 5
}
